{
 "cells": [
  {
   "cell_type": "code",
   "execution_count": null,
   "metadata": {},
   "outputs": [],
   "source": [
    "# !pip install -U scikit-image"
   ]
  },
  {
   "cell_type": "code",
   "execution_count": null,
   "metadata": {},
   "outputs": [],
   "source": [
    "from skimage.metrics import structural_similarity as ssim\n",
    "from skimage.metrics import peak_signal_noise_ratio as psnr\n",
    "import matplotlib.pyplot as plt\n",
    "import numpy as np\n",
    "import cv2\n",
    "def compute_results_table(orig, recon, jpeg1, jpeg10, array_tba):\n",
    "    original = cv2.imread(orig)\n",
    "    original = cv2.resize(original, (128, 128))\n",
    "    original = cv2.cvtColor(original, cv2.COLOR_BGR2GRAY)\n",
    "    \n",
    "    reconstructed = cv2.imread(recon)\n",
    "    reconstructed = cv2.resize(reconstructed, (128, 128))\n",
    "    reconstructed = cv2.cvtColor(reconstructed, cv2.COLOR_BGR2GRAY)\n",
    "    \n",
    "    jpeg_1 = cv2.imread(jpeg1)\n",
    "    jpeg_1 = cv2.resize(jpeg_1, (128, 128))\n",
    "    jpeg_1 = cv2.cvtColor(jpeg_1, cv2.COLOR_BGR2GRAY)\n",
    "    \n",
    "    jpeg_10 = cv2.imread(jpeg10)\n",
    "    jpeg_10 = cv2.resize(jpeg_10, (128, 128))\n",
    "    jpeg_10 = cv2.cvtColor(jpeg_10, cv2.COLOR_BGR2GRAY)\n",
    "    \n",
    "    def mse(a, b):\n",
    "        err = np.sum((a.astype(\"float\") - b.astype(\"float\")) ** 2)\n",
    "        err = err / float(a.shape[0] * a.shape[1])\n",
    "        return err\n",
    "    \n",
    "    def cr(a,b):\n",
    "        cr = (a.shape[0] * a.shape[1]) / os.stat(b).st_size\n",
    "        return cr\n",
    "    \n",
    "    def bpp(a,b):\n",
    "        bpp = 13.63/cr(a,b)\n",
    "        return bpp\n",
    "    \n",
    "    mse_err_original = mse(original, original)\n",
    "    ssim_err_original = ssim(original, original)\n",
    "    psnr_err_original = psnr(original, original)\n",
    "    cr_err_original = cr(original, original)\n",
    "    bpp_err_original = bpp(original, original)\n",
    "    \n",
    "    mse_err_jpeg1 = mse(original, jpeg_1)\n",
    "    ssim_err_jpeg1 = ssim(original, jpeg_1)\n",
    "    psnr_err_jpeg1 = psnr(original, jpeg_1)\n",
    "    cr_err_jpeg1 = cr(original, jpeg1)\n",
    "    bpp_err_jpeg1 = bpp(original, jpeg1)\n",
    "    \n",
    "    mse_err_jpeg10 = mse(original, jpeg_10)\n",
    "    ssim_err_jpeg10 = ssim(original, jpeg_10)\n",
    "    psnr_err_jpeg10 = psnr(original, jpeg_10)\n",
    "    cr_err_jpeg10 = cr(original, jpeg10)\n",
    "    bpp_err_jpeg10 = bpp(original, jpeg10)\n",
    "    \n",
    "    mse_err_gan = mse(original, reconstructed)\n",
    "    ssim_err_gan = ssim(original, reconstructed)\n",
    "    psnr_err_gan = psnr(original, reconstructed)\n",
    "    cr_err_gan = cr(original, reconstructed)\n",
    "    bpp_err_gan = bpp(original, reconstructed)\n",
    "    \n",
    "    temp_arr = [mse_err_gan, ssim_err_gan, psnr_err_gan, cr_err_gan, bpp_err_gan]\n",
    "    temp_arr2 = [mse_err_original, ssim_err_original, psnr_err_original, cr_err_original, bpp_err_original]\n",
    "    temp_arr3 = [mse_err_jpeg1, ssim_err_jpeg1, psnr_err_jpeg1, cr_err_jpeg1, bpp_err_jpeg1]\n",
    "    temp_arr4 = [mse_err_jpeg10, ssim_err_jpeg10, psnr_err_jpeg10, cr_err_jpeg10, bpp_err_jpeg10]\n",
    "    \n",
    "    \n",
    "    array_tba.append(temp_arr)\n",
    "    \n",
    "    print(\"Scheme\\t\\t\\tMSE\\t\\t\\tSSIM\\t\\t\\tPSNR\\t\\t\\tBPP\\t\\t\\tCR\\n\")\n",
    "    print(\"Uncompressed\\t\\t\", mse_err_original, \"\\t\\t\\t\", ssim_err_original, \"\\t\\t\\t\", psnr_err_original, \"\\t\\t\\t\", bpp_err_original, \"\\t\\t\\t\", cr_err_original)\n",
    "    print(\"JPEG (10%)\\t\\t\", mse_err_jpeg10, \"\\t\", ssim_err_jpeg10, \"\\t\", psnr_err_jpeg10, \"\\t\\t\\t\", bpp_err_jpeg10, \"\\t\\t\\t\", cr_err_jpeg10)\n",
    "    print(\"JPEG (1%)\\t\\t\", mse_err_jpeg1, \"\\t\", ssim_err_jpeg1, \"\\t\", psnr_err_jpeg1, \"\\t\\t\\t\", bpp_err_jpeg1, \"\\t\\t\\t\", cr_err_jpeg1)\n",
    "    print(\"GAN Reversal\\t\\t\", mse_err_gan, \"\\t\", ssim_err_gan, \"\\t\", psnr_err_gan, \"\\t\\t\\t\", bpp_err_gan, \"\\t\\t\\t\", cr_err_gan)"
   ]
  },
  {
   "cell_type": "code",
   "execution_count": null,
   "metadata": {},
   "outputs": [],
   "source": [
    "global_array = []\n",
    "compute_results_table(\"original.png\", \"reconstructed.png\", \"photo-quality1.jpeg\", \"photo-quality10.jpeg\", global_array)\n",
    "# print(global_array)"
   ]
  }
 ],
 "metadata": {
  "kernelspec": {
   "display_name": "Python 3.9.13 64-bit",
   "language": "python",
   "name": "python3"
  },
  "language_info": {
   "codemirror_mode": {
    "name": "ipython",
    "version": 3
   },
   "file_extension": ".py",
   "mimetype": "text/x-python",
   "name": "python",
   "nbconvert_exporter": "python",
   "pygments_lexer": "ipython3",
   "version": "3.9.13"
  },
  "vscode": {
   "interpreter": {
    "hash": "7aedf4134b04ec8b6e0273a01aa9602388c4e70d8498cfacb48b28724c0cfdf0"
   }
  }
 },
 "nbformat": 4,
 "nbformat_minor": 4
}
